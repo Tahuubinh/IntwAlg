{
  "nbformat": 4,
  "nbformat_minor": 0,
  "metadata": {
    "colab": {
      "name": "Tensorflow_studying_3.ipynb",
      "provenance": []
    },
    "kernelspec": {
      "name": "python3",
      "display_name": "Python 3"
    },
    "language_info": {
      "name": "python"
    },
    "accelerator": "TPU"
  },
  "cells": [
    {
      "cell_type": "code",
      "metadata": {
        "colab": {
          "base_uri": "https://localhost:8080/"
        },
        "id": "YIj2H0Ol7p6F",
        "outputId": "7bdfaa0b-5ec1-467b-d7dc-adfc47022726"
      },
      "source": [
        "from collections import defaultdict\n",
        "\n",
        "def printallSublists(A):\n",
        "  n = len(A)\n",
        "  B = defaultdict(list)\n",
        "  sum = 0\n",
        "  for i in range(n):\n",
        "    sum = sum + A[i]\n",
        "    B[sum].append(i)\n",
        "  print(B)\n",
        "  for i in B:\n",
        "    for j in range(len(B[i])):\n",
        "      print(B[i][j], end ='')\n",
        "    print()\n",
        "\n",
        "if __name__ == '__main__':\n",
        " \n",
        "    A = [3, 4, -7, 3, 1, 3, 1, -4, -2, -2]\n",
        " \n",
        "    printallSublists(A)"
      ],
      "execution_count": 13,
      "outputs": [
        {
          "output_type": "stream",
          "text": [
            "defaultdict(<class 'list'>, {3: [0, 3], 7: [1, 5], 0: [2, 9], 4: [4, 7], 8: [6], 2: [8]})\n",
            "03\n",
            "15\n",
            "29\n",
            "47\n",
            "6\n",
            "8\n"
          ],
          "name": "stdout"
        }
      ]
    },
    {
      "cell_type": "code",
      "metadata": {
        "colab": {
          "base_uri": "https://localhost:8080/"
        },
        "id": "m2Ej-UQh7zr1",
        "outputId": "95d47847-7493-44c9-ee46-652f2ec0cf94"
      },
      "source": [
        "from collections import defaultdict\n",
        "\n",
        "A = defaultdict(list)\n",
        "print(A)\n",
        "A[0].append(6)\n",
        "A[0].append(5)\n",
        "A"
      ],
      "execution_count": 6,
      "outputs": [
        {
          "output_type": "stream",
          "text": [
            "defaultdict(<class 'list'>, {})\n"
          ],
          "name": "stdout"
        },
        {
          "output_type": "execute_result",
          "data": {
            "text/plain": [
              "defaultdict(list, {0: [6, 5]})"
            ]
          },
          "metadata": {
            "tags": []
          },
          "execution_count": 6
        }
      ]
    }
  ]
}